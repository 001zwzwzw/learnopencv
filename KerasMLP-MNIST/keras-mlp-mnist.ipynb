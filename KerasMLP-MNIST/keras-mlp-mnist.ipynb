{
 "cells": [
  {
   "cell_type": "code",
   "execution_count": 1,
   "metadata": {},
   "outputs": [
    {
     "name": "stderr",
     "output_type": "stream",
     "text": [
      "Using TensorFlow backend.\n"
     ]
    }
   ],
   "source": [
    "import numpy as np\n",
    "from keras.datasets import mnist\n",
    "from keras.models import Sequential\n",
    "from keras.layers import Dense, Dropout\n",
    "import matplotlib.pyplot as plt\n",
    "%matplotlib inline\n",
    "from __future__ import print_function\n",
    "from keras.utils import to_categorical"
   ]
  },
  {
   "cell_type": "markdown",
   "metadata": {},
   "source": [
    "# Load Data\n",
    "\n",
    "Keras comes with the MNIST data loader. Keras has a function `mnist.load_data()` which downloads the data from its servers if it is not present already. The data loaded using this function is divided into training and test sets."
   ]
  },
  {
   "cell_type": "code",
   "execution_count": 2,
   "metadata": {
    "collapsed": true
   },
   "outputs": [],
   "source": [
    "(train_images, train_labels), (test_images, test_labels) = mnist.load_data()"
   ]
  },
  {
   "cell_type": "markdown",
   "metadata": {},
   "source": [
    "# Checkout the data\n",
    "\n",
    "The data consists of handwritten numbers ranging from 0 to 9, along with their ground truth. It has 60,000 train samples and 10,000 test samples. Each sample is a 28x28 grayscale image."
   ]
  },
  {
   "cell_type": "code",
   "execution_count": 3,
   "metadata": {
    "scrolled": true
   },
   "outputs": [
    {
     "name": "stdout",
     "output_type": "stream",
     "text": [
      "Training data shape :  (60000, 28, 28) (60000,)\n",
      "Testing data shape :  (10000, 28, 28) (10000,)\n",
      "Total number of outputs :  10\n",
      "Output classes :  [0 1 2 3 4 5 6 7 8 9]\n"
     ]
    },
    {
     "data": {
      "image/png": "[encoded data removed]",
      "text/plain": [
       "<matplotlib.figure.Figure at 0x7fd67047c310>"
      ]
     },
     "metadata": {},
     "output_type": "display_data"
    },
    {
     "name": "stdout",
     "output_type": "stream",
     "text": [
      "Ground Truth :  5\n"
     ]
    },
    {
     "data": {
      "image/png": "[encoded data removed]",
      "text/plain": [
       "<matplotlib.figure.Figure at 0x7fd630177d10>"
      ]
     },
     "metadata": {},
     "output_type": "display_data"
    },
    {
     "name": "stdout",
     "output_type": "stream",
     "text": [
      "Ground Truth :  7\n"
     ]
    }
   ],
   "source": [
    "print('Training data shape : ', train_images.shape, train_labels.shape)\n",
    "\n",
    "print('Testing data shape : ', test_images.shape, test_labels.shape)\n",
    "\n",
    "# Find the unique numbers from the train labels\n",
    "classes = np.unique(train_labels)\n",
    "nClasses = len(classes)\n",
    "print('Total number of outputs : ', nClasses)\n",
    "print('Output classes : ', classes)\n",
    "\n",
    "# Display the first image in training data\n",
    "plt.imshow(train_images[0,:,:], cmap='gray')\n",
    "plt.show()\n",
    "print(\"Ground Truth : \", train_labels[0])\n",
    "\n",
    "# Display the first image in testing data\n",
    "plt.imshow(test_images[0,:,:], cmap='gray')\n",
    "plt.show()\n",
    "print(\"Ground Truth : \", test_labels[0])\n"
   ]
  },
  {
   "cell_type": "markdown",
   "metadata": {},
   "source": [
    "# Process the data\n",
    "\n",
    "* The images are grayscale and the pixel values range from 0 to 255.\n",
    "* Convert each image matrix ( 28x28 ) to an array ( 28*28 = 784 dimenstional ) which will be fed to the network as a single feature.\n",
    "* We convert the data to float and **scale** the values between 0 to 1.\n",
    "* We also convert the labels from integer to **categorical ( one-hot ) encoding** since that is the format required by Keras to perform multiclass classification. One-hot encoding is a type of boolean representation of integer data. It converts the integer to an array of all zeros except a 1 at the index of the number. For example, using a one-hot encoding of 10 classes, the integer 5 will be encoded as 0000010000"
   ]
  },
  {
   "cell_type": "code",
   "execution_count": 4,
   "metadata": {
    "collapsed": true
   },
   "outputs": [],
   "source": [
    "# Change from matrix to array of dimension 28x28 to array of dimention 784\n",
    "dimData = np.prod(train_images.shape[1:])\n",
    "train_data = train_images.reshape(train_images.shape[0], dimData)\n",
    "test_data = test_images.reshape(test_images.shape[0], dimData)"
   ]
  },
  {
   "cell_type": "code",
   "execution_count": 5,
   "metadata": {
    "collapsed": true
   },
   "outputs": [],
   "source": [
    "# Change to float datatype\n",
    "train_data = train_data.astype('float32')\n",
    "test_data = test_data.astype('float32')"
   ]
  },
  {
   "cell_type": "code",
   "execution_count": 6,
   "metadata": {
    "collapsed": true
   },
   "outputs": [],
   "source": [
    "# Scale the data to lie between 0 to 1\n",
    "train_data /= 255\n",
    "test_data /= 255"
   ]
  },
  {
   "cell_type": "code",
   "execution_count": 7,
   "metadata": {
    "collapsed": true
   },
   "outputs": [],
   "source": [
    "# Change the labels from integer to categorical data\n",
    "train_labels_one_hot = to_categorical(train_labels)\n",
    "test_labels_one_hot = to_categorical(test_labels)"
   ]
  },
  {
   "cell_type": "code",
   "execution_count": 8,
   "metadata": {},
   "outputs": [
    {
     "name": "stdout",
     "output_type": "stream",
     "text": [
      "Original label 0 :  5\n",
      "After conversion to categorical ( one-hot ) :  [ 0.  0.  0.  0.  0.  1.  0.  0.  0.  0.]\n"
     ]
    }
   ],
   "source": [
    "# Display the change for category label using one-hot encoding\n",
    "print('Original label 0 : ', train_labels[0])\n",
    "print('After conversion to categorical ( one-hot ) : ', train_labels_one_hot[0])"
   ]
  },
  {
   "cell_type": "markdown",
   "metadata": {},
   "source": [
    "# Create the network"
   ]
  },
  {
   "cell_type": "code",
   "execution_count": 31,
   "metadata": {
    "collapsed": true
   },
   "outputs": [],
   "source": [
    "model = Sequential()\n",
    "model.add(Dense(512, activation='relu', input_shape=(dimData,)))\n",
    "# model.add(Dense(512, activation='relu'))\n",
    "model.add(Dense(nClasses, activation='softmax'))"
   ]
  },
  {
   "cell_type": "markdown",
   "metadata": {},
   "source": [
    "# Configure the Network"
   ]
  },
  {
   "cell_type": "code",
   "execution_count": 32,
   "metadata": {
    "collapsed": true
   },
   "outputs": [],
   "source": [
    "model.compile(optimizer='rmsprop', loss='categorical_crossentropy', metrics=['accuracy'])"
   ]
  },
  {
   "cell_type": "markdown",
   "metadata": {},
   "source": [
    "# Train the Network"
   ]
  },
  {
   "cell_type": "code",
   "execution_count": 33,
   "metadata": {},
   "outputs": [
    {
     "name": "stdout",
     "output_type": "stream",
     "text": [
      "Epoch 1/10\n",
      "60000/60000 [==============================] - 17s - loss: 0.2912 - acc: 0.9076    \n",
      "Epoch 2/10\n",
      "60000/60000 [==============================] - 17s - loss: 0.0921 - acc: 0.9718    \n",
      "Epoch 3/10\n",
      "60000/60000 [==============================] - 18s - loss: 0.0573 - acc: 0.9821    \n",
      "Epoch 4/10\n",
      "60000/60000 [==============================] - 18s - loss: 0.0414 - acc: 0.9873    \n",
      "Epoch 5/10\n",
      "60000/60000 [==============================] - 17s - loss: 0.0302 - acc: 0.9906    \n",
      "Epoch 6/10\n",
      "60000/60000 [==============================] - 18s - loss: 0.0246 - acc: 0.9924    - ETA: 1s - loss: 0\n",
      "Epoch 7/10\n",
      "60000/60000 [==============================] - 18s - loss: 0.0189 - acc: 0.9940    \n",
      "Epoch 8/10\n",
      "60000/60000 [==============================] - 17s - loss: 0.0199 - acc: 0.9942    \n",
      "Epoch 9/10\n",
      "60000/60000 [==============================] - 17s - loss: 0.0155 - acc: 0.9955    \n",
      "Epoch 10/10\n",
      "60000/60000 [==============================] - 18s - loss: 0.0120 - acc: 0.9962    \n"
     ]
    }
   ],
   "source": [
    "history = model.fit(train_data, train_labels_one_hot, batch_size=256, epochs=20, verbose=1)"
   ]
  },
  {
   "cell_type": "code",
   "execution_count": 13,
   "metadata": {},
   "outputs": [
    {
     "data": {
      "text/plain": [
       "[0.91735,\n",
       " 0.97150000000000003,\n",
       " 0.98131666669845585,\n",
       " 0.98658333333333337,\n",
       " 0.99095,\n",
       " 0.99303333333333332,\n",
       " 0.99436666666666662,\n",
       " 0.99568333333333336,\n",
       " 0.99641666663487749,\n",
       " 0.99706666666666666]"
      ]
     },
     "execution_count": 13,
     "metadata": {},
     "output_type": "execute_result"
    }
   ],
   "source": [
    "history.history['acc']"
   ]
  },
  {
   "cell_type": "markdown",
   "metadata": {},
   "source": [
    "# Evaluate the trained network on training and test data"
   ]
  },
  {
   "cell_type": "code",
   "execution_count": 34,
   "metadata": {},
   "outputs": [
    {
     "name": "stdout",
     "output_type": "stream",
     "text": [
      "10000/10000 [==============================] - 1s     \n"
     ]
    }
   ],
   "source": [
    "[train_loss, train_acc] = model.evaluate(train_data, train_labels_one_hot)\n",
    "[test_loss, test_acc] = model.evaluate(test_data, test_labels_one_hot)"
   ]
  },
  {
   "cell_type": "code",
   "execution_count": 35,
   "metadata": {},
   "outputs": [
    {
     "name": "stdout",
     "output_type": "stream",
     "text": [
      "Evaluation result on Train Data :  Loss = 0.00549218264177, accuracy = 0.998283333333\n",
      "Evaluation result on Test Data : Loss = 0.0915182666885, accuracy = 0.9854\n"
     ]
    }
   ],
   "source": [
    "print(\"Evaluation result on Train Data :  Loss = {}, accuracy = {}\".format(train_loss, train_acc))\n",
    "print(\"Evaluation result on Test Data : Loss = {}, accuracy = {}\".format(test_loss, test_acc))"
   ]
  },
  {
   "cell_type": "markdown",
   "metadata": {},
   "source": [
    "# Add Dropout Regularization and train"
   ]
  },
  {
   "cell_type": "code",
   "execution_count": 36,
   "metadata": {
    "collapsed": true
   },
   "outputs": [],
   "source": [
    "model_reg = Sequential()\n",
    "model_reg.add(Dense(512, activation='relu', input_shape=(dimData,)))\n",
    "model.add(Dropout(0.5))\n",
    "# model_reg.add(Dense(512, activation='relu'))\n",
    "# model_reg.add(Dropout(0.5))\n",
    "model_reg.add(Dense(nClasses, activation='softmax'))"
   ]
  },
  {
   "cell_type": "code",
   "execution_count": 37,
   "metadata": {
    "collapsed": true
   },
   "outputs": [],
   "source": [
    "model_reg.compile(optimizer='rmsprop', loss='categorical_crossentropy', metrics=['accuracy'])"
   ]
  },
  {
   "cell_type": "code",
   "execution_count": 38,
   "metadata": {},
   "outputs": [
    {
     "name": "stdout",
     "output_type": "stream",
     "text": [
      "Epoch 1/10\n",
      "60000/60000 [==============================] - 17s - loss: 0.3772 - acc: 0.8866    \n",
      "Epoch 2/10\n",
      "60000/60000 [==============================] - 17s - loss: 0.1336 - acc: 0.9644    \n",
      "Epoch 3/10\n",
      "60000/60000 [==============================] - 17s - loss: 0.0900 - acc: 0.9752    \n",
      "Epoch 4/10\n",
      "60000/60000 [==============================] - 18s - loss: 0.0686 - acc: 0.9814    \n",
      "Epoch 5/10\n",
      "60000/60000 [==============================] - 17s - loss: 0.0554 - acc: 0.9851    \n",
      "Epoch 6/10\n",
      "60000/60000 [==============================] - 17s - loss: 0.0463 - acc: 0.9874    \n",
      "Epoch 7/10\n",
      "60000/60000 [==============================] - 18s - loss: 0.0417 - acc: 0.9892    \n",
      "Epoch 8/10\n",
      "60000/60000 [==============================] - 17s - loss: 0.0365 - acc: 0.9904    \n",
      "Epoch 9/10\n",
      "60000/60000 [==============================] - 18s - loss: 0.0323 - acc: 0.9922    \n",
      "Epoch 10/10\n",
      "60000/60000 [==============================] - 18s - loss: 0.0310 - acc: 0.9925    \n"
     ]
    }
   ],
   "source": [
    "history_reg = model_reg.fit(train_data, train_labels_one_hot, batch_size=256, epochs=10, verbose=1)"
   ]
  },
  {
   "cell_type": "code",
   "execution_count": 39,
   "metadata": {},
   "outputs": [
    {
     "name": "stdout",
     "output_type": "stream",
     "text": [
      " 9984/10000 [============================>.] - ETA: 0s"
     ]
    }
   ],
   "source": [
    "[train_loss, train_acc] = model_reg.evaluate(train_data, train_labels_one_hot)\n",
    "[test_loss, test_acc] = model_reg.evaluate(test_data, test_labels_one_hot)"
   ]
  },
  {
   "cell_type": "code",
   "execution_count": 40,
   "metadata": {},
   "outputs": [
    {
     "name": "stdout",
     "output_type": "stream",
     "text": [
      "Evaluation result on Train Data :  Loss = 0.0142758363472, accuracy = 0.995933333333\n",
      "Evaluation result on Test Data : Loss = 0.122970823377, accuracy = 0.9791\n"
     ]
    }
   ],
   "source": [
    "print(\"Evaluation result on Train Data :  Loss = {}, accuracy = {}\".format(train_loss, train_acc))\n",
    "print(\"Evaluation result on Test Data : Loss = {}, accuracy = {}\".format(test_loss, test_acc))"
   ]
  },
  {
   "cell_type": "code",
   "execution_count": 37,
   "metadata": {},
   "outputs": [
    {
     "ename": "TypeError",
     "evalue": "fit() takes at least 3 arguments (1 given)",
     "output_type": "error",
     "traceback": [
      "\u001b[0;31m---------------------------------------------------------------------------\u001b[0m",
      "\u001b[0;31mTypeError\u001b[0m                                 Traceback (most recent call last)",
      "\u001b[0;32m<ipython-input-37-9ab50d81a3b3>\u001b[0m in \u001b[0;36m<module>\u001b[0;34m()\u001b[0m\n\u001b[0;32m----> 1\u001b[0;31m \u001b[0mhistory\u001b[0m \u001b[0;34m=\u001b[0m \u001b[0mmodel\u001b[0m\u001b[0;34m.\u001b[0m\u001b[0mfit\u001b[0m\u001b[0;34m(\u001b[0m\u001b[0;34m)\u001b[0m\u001b[0;34m\u001b[0m\u001b[0m\n\u001b[0m",
      "\u001b[0;31mTypeError\u001b[0m: fit() takes at least 3 arguments (1 given)"
     ]
    }
   ],
   "source": []
  },
  {
   "cell_type": "code",
   "execution_count": 14,
   "metadata": {},
   "outputs": [
    {
     "data": {
      "text/plain": [
       "array([5, 0, 4, 1, 9, 2, 1, 3, 1, 4, 3, 5, 3, 6, 1, 7, 2, 8, 6, 9, 4, 0, 9,\n",
       "       1, 1, 2, 4, 3, 2, 7, 3, 8, 6, 9, 0, 5, 6, 0, 7, 6, 1, 8, 7, 9, 3, 9,\n",
       "       8, 5, 9, 3, 3, 0, 7, 4, 9, 8, 0, 9, 4, 1, 4, 4, 6, 0, 4, 5, 6, 1, 0,\n",
       "       0, 1, 7, 1, 6, 3, 0, 2, 1, 1, 7, 9, 0, 2, 6, 7, 8, 3, 9, 0, 4, 6, 7,\n",
       "       4, 6, 8, 0, 7, 8, 3, 1], dtype=uint8)"
      ]
     },
     "execution_count": 14,
     "metadata": {},
     "output_type": "execute_result"
    }
   ],
   "source": [
    "train_labels[:100]"
   ]
  },
  {
   "cell_type": "code",
   "execution_count": null,
   "metadata": {
    "collapsed": true
   },
   "outputs": [],
   "source": []
  }
 ],
 "metadata": {
  "kernelspec": {
   "display_name": "Python 2",
   "language": "python",
   "name": "python2"
  },
  "language_info": {
   "codemirror_mode": {
    "name": "ipython",
    "version": 2
   },
   "file_extension": ".py",
   "mimetype": "text/x-python",
   "name": "python",
   "nbconvert_exporter": "python",
   "pygments_lexer": "ipython2",
   "version": "2.7.12"
  }
 },
 "nbformat": 4,
 "nbformat_minor": 2
}
