{
 "cells": [
  {
   "cell_type": "code",
   "execution_count": 1,
   "metadata": {
    "collapsed": true
   },
   "outputs": [],
   "source": [
    "// Include libraries\n",
    "#include \"../resource/lib/public/includeLibraries.h\"\n",
    "#include <opencv2/opencv.hpp>\n",
    "#include <opencv2/core.hpp>\n",
    "#include <opencv2/highgui.hpp>"
   ]
  },
  {
   "cell_type": "code",
   "execution_count": 2,
   "metadata": {
    "collapsed": true
   },
   "outputs": [],
   "source": [
    "#include <opencv2/imgproc.hpp>"
   ]
  },
  {
   "cell_type": "code",
   "execution_count": 3,
   "metadata": {
    "collapsed": true
   },
   "outputs": [],
   "source": [
    "using namespace std;"
   ]
  },
  {
   "cell_type": "code",
   "execution_count": 4,
   "metadata": {
    "collapsed": true
   },
   "outputs": [],
   "source": [
    "using namespace cv;"
   ]
  },
  {
   "cell_type": "code",
   "execution_count": 5,
   "metadata": {
    "collapsed": true
   },
   "outputs": [],
   "source": [
    "#include \"../resource/lib/public/displayImages.h\"\n",
    "#include \"../resource/lib/public/matplotlibcpp.h\""
   ]
  },
  {
   "cell_type": "code",
   "execution_count": 6,
   "metadata": {
    "collapsed": true
   },
   "outputs": [],
   "source": [
    "using namespace matplotlibcpp;"
   ]
  },
  {
   "cell_type": "code",
   "execution_count": 7,
   "metadata": {
    "collapsed": true
   },
   "outputs": [],
   "source": [
    "Mat testImage = imread(\"boat.jpg\", 0);\n",
    "int bins_num = 256;"
   ]
  },
  {
   "cell_type": "code",
   "execution_count": 8,
   "metadata": {
    "collapsed": true
   },
   "outputs": [],
   "source": [
    "long double histogram[256];\n",
    " \n",
    "    // initialize all intensity values to 0\n",
    "    for(int i = 0; i < 255; i++)\n",
    "    {\n",
    "        histogram[i] = 0;\n",
    "    }\n",
    " \n",
    "    // calculate the no of pixels for each intensity values\n",
    "    for(int y = 0; y < testImage.rows; y++)\n",
    "        for(int x = 0; x < testImage.cols; x++)\n",
    "            histogram[(int)testImage.at<uchar>(y,x)]++;\n"
   ]
  },
  {
   "cell_type": "code",
   "execution_count": 9,
   "metadata": {
    "collapsed": true
   },
   "outputs": [],
   "source": [
    "// histogram[] is equivalent to hist"
   ]
  },
  {
   "cell_type": "code",
   "execution_count": 10,
   "metadata": {
    "collapsed": true
   },
   "outputs": [],
   "source": [
    "long double bin_edges[257];\n",
    "bin_edges[0] = 0.0;\n",
    "long double increment = 0.99609375;\n",
    "for(int i = 1; i < 257; i++){\n",
    "    bin_edges[i] = bin_edges[i-1] + increment;\n",
    "}"
   ]
  },
  {
   "cell_type": "code",
   "execution_count": null,
   "metadata": {
    "collapsed": true
   },
   "outputs": [],
   "source": []
  },
  {
   "cell_type": "code",
   "execution_count": 11,
   "metadata": {
    "collapsed": true
   },
   "outputs": [],
   "source": [
    "// Calculating bin_mids"
   ]
  },
  {
   "cell_type": "code",
   "execution_count": 12,
   "metadata": {
    "collapsed": true
   },
   "outputs": [],
   "source": [
    "long double bin_mids[257];\n",
    "for(int i = 0; i < 256; i++){\n",
    "    bin_mids[i] = (bin_edges[i] + bin_edges[i+1])/2;\n",
    "}"
   ]
  },
  {
   "cell_type": "code",
   "execution_count": 13,
   "metadata": {},
   "outputs": [
    {
     "name": "stdout",
     "output_type": "stream",
     "text": [
      "20\n"
     ]
    }
   ],
   "source": [
    "long double weight1[256];\n",
    "weight1[0] = histogram[0];\n",
    "cout << weight1[0] << endl;\n",
    "for(int i = 1; i < 256; i++){\n",
    "    weight1[i] = histogram[i] + weight1[i-1];\n",
    "}"
   ]
  },
  {
   "cell_type": "code",
   "execution_count": 14,
   "metadata": {
    "collapsed": true
   },
   "outputs": [],
   "source": [
    "int total_sum=0;\n",
    "for(int i = 0; i < 256; i++){\n",
    "    total_sum = total_sum + histogram[i];\n",
    "}"
   ]
  },
  {
   "cell_type": "code",
   "execution_count": 15,
   "metadata": {
    "collapsed": true
   },
   "outputs": [],
   "source": [
    "long double weight2[256];\n",
    "weight2[0] = total_sum;\n",
    "for(int i = 1; i < 256; i++){\n",
    "    weight2[i] = weight2[i-1] - histogram[i - 1];\n",
    "}"
   ]
  },
  {
   "cell_type": "code",
   "execution_count": 16,
   "metadata": {
    "collapsed": true
   },
   "outputs": [],
   "source": [
    "long double histogram_bin_mids[256];\n",
    "for(int i = 0; i < 256; i++){\n",
    "    histogram_bin_mids[i] = histogram[i] * bin_mids[i];\n",
    "}\n",
    "long double cumsum_mean1[256];\n",
    "cumsum_mean1[0] = histogram_bin_mids[0];\n",
    "for(int i = 1; i < 256; i++){\n",
    "    cumsum_mean1[i] = cumsum_mean1[i-1] + histogram_bin_mids[i];\n",
    "}"
   ]
  },
  {
   "cell_type": "code",
   "execution_count": 17,
   "metadata": {
    "collapsed": true
   },
   "outputs": [],
   "source": [
    "long double cumsum_mean2[256];\n",
    "cumsum_mean2[0] = histogram_bin_mids[255];\n",
    "for(int i = 1, j=254; i < 256 && j>=0; i++, j--){\n",
    "    cumsum_mean2[i] = cumsum_mean2[i-1] + histogram_bin_mids[j];\n",
    "}"
   ]
  },
  {
   "cell_type": "code",
   "execution_count": 18,
   "metadata": {
    "collapsed": true
   },
   "outputs": [],
   "source": [
    "long double mean1[256];\n",
    "for(int i = 0; i < 256; i++){\n",
    "    mean1[i] = cumsum_mean1[i] / weight1[i];\n",
    "}"
   ]
  },
  {
   "cell_type": "code",
   "execution_count": 19,
   "metadata": {
    "collapsed": true
   },
   "outputs": [],
   "source": [
    "long double mean2[256];\n",
    "for(int i = 0, j = 255; i < 256 && j >= 0; i++, j--){\n",
    "    mean2[j] = cumsum_mean2[i] / weight2[j];\n",
    "}"
   ]
  },
  {
   "cell_type": "code",
   "execution_count": null,
   "metadata": {
    "collapsed": true
   },
   "outputs": [],
   "source": []
  },
  {
   "cell_type": "code",
   "execution_count": 20,
   "metadata": {
    "collapsed": true
   },
   "outputs": [],
   "source": [
    "long double Inter_class_variance[255];\n"
   ]
  },
  {
   "cell_type": "code",
   "execution_count": 21,
   "metadata": {
    "collapsed": true
   },
   "outputs": [],
   "source": [
    "long double dnum = 10000000000;"
   ]
  },
  {
   "cell_type": "code",
   "execution_count": 22,
   "metadata": {},
   "outputs": [
    {
     "name": "stdout",
     "output_type": "stream",
     "text": [
      "202.208\n",
      "462.565\n",
      "1246.1\n",
      "3938.09\n",
      "13842.4\n",
      "26045\n",
      "40489.5\n",
      "56691.9\n",
      "75012.1\n",
      "94600.3\n",
      "117265\n",
      "142846\n",
      "170089\n",
      "196171\n",
      "220532\n",
      "245778\n",
      "273325\n",
      "298152\n",
      "317454\n",
      "331747\n",
      "342187\n",
      "350936\n",
      "358433\n",
      "365310\n",
      "371741\n",
      "377822\n",
      "383837\n",
      "389519\n",
      "395106\n",
      "400132\n",
      "404885\n",
      "409140\n",
      "413394\n",
      "417689\n",
      "421519\n",
      "425277\n",
      "428939\n",
      "432348\n",
      "435621\n",
      "438749\n",
      "441980\n",
      "444822\n",
      "447814\n",
      "450850\n",
      "453730\n",
      "456655\n",
      "459558\n",
      "462127\n",
      "464656\n",
      "467495\n",
      "470504\n",
      "473416\n",
      "476102\n",
      "478762\n",
      "481826\n",
      "485009\n",
      "488054\n",
      "491504\n",
      "494726\n",
      "498375\n",
      "502090\n",
      "505992\n",
      "510129\n",
      "514504\n",
      "519161\n",
      "523606\n",
      "527960\n",
      "532511\n",
      "537320\n",
      "542252\n",
      "547251\n",
      "551370\n",
      "555263\n",
      "558825\n",
      "562218\n",
      "565429\n",
      "568502\n",
      "571515\n",
      "574567\n",
      "577109\n",
      "579396\n",
      "581664\n",
      "583680\n",
      "585726\n",
      "587670\n",
      "589591\n",
      "591362\n",
      "593118\n",
      "594907\n",
      "596748\n",
      "598569\n",
      "600123\n",
      "601756\n",
      "603344\n",
      "605166\n",
      "606937\n",
      "608814\n",
      "610567\n",
      "612381\n",
      "614354\n",
      "616472\n",
      "618552\n",
      "620431\n",
      "621921\n",
      "623275\n",
      "624463\n",
      "625614\n",
      "626466\n",
      "627270\n",
      "627932\n",
      "628412\n",
      "628743\n",
      "629063\n",
      "629376\n",
      "629636\n",
      "629882\n",
      "630104\n",
      "630342\n",
      "630551\n",
      "630690\n",
      "630864\n",
      "630985\n",
      "631117\n",
      "631248\n",
      "631352\n",
      "631426\n",
      "631520\n",
      "631596\n",
      "631635\n",
      "631682\n",
      "631705\n",
      "631724\n",
      "631728\n",
      "631710\n",
      "631681\n",
      "631646\n",
      "631595\n",
      "631530\n",
      "631461\n",
      "631381\n",
      "631280\n",
      "631161\n",
      "631047\n",
      "630926\n",
      "630790\n",
      "630617\n",
      "630421\n",
      "630236\n",
      "630029\n",
      "629794\n",
      "629525\n",
      "629238\n",
      "628944\n",
      "628626\n",
      "628255\n",
      "627877\n",
      "627495\n",
      "627090\n",
      "626611\n",
      "625963\n",
      "625223\n",
      "624001\n",
      "621158\n",
      "615418\n",
      "606321\n",
      "595950\n",
      "586245\n",
      "577940\n",
      "570511\n",
      "563459\n",
      "556476\n",
      "550574\n",
      "545618\n",
      "540327\n",
      "533859\n",
      "526469\n",
      "519091\n",
      "512039\n",
      "505269\n",
      "498609\n",
      "492134\n",
      "486041\n",
      "480359\n",
      "475014\n",
      "469885\n",
      "464829\n",
      "459880\n",
      "455198\n",
      "450605\n",
      "445898\n",
      "440971\n",
      "436675\n",
      "432786\n",
      "429190\n",
      "425787\n",
      "422200\n",
      "418654\n",
      "415223\n",
      "411538\n",
      "407373\n",
      "402749\n",
      "397716\n",
      "392634\n",
      "387082\n",
      "380806\n",
      "374508\n",
      "368863\n",
      "362339\n",
      "355363\n",
      "347775\n",
      "339820\n",
      "333195\n",
      "326232\n",
      "317761\n",
      "310441\n",
      "304651\n",
      "300378\n",
      "294615\n",
      "286595\n",
      "279770\n",
      "275775\n",
      "271097\n",
      "264296\n",
      "255454\n",
      "249498\n",
      "243405\n",
      "236713\n",
      "229371\n",
      "222681\n",
      "216415\n",
      "208953\n",
      "200780\n",
      "194167\n",
      "187700\n",
      "179027\n",
      "169671\n",
      "160738\n",
      "153636\n",
      "146875\n",
      "132692\n",
      "120815\n",
      "112918\n",
      "105733\n",
      "94717.8\n",
      "86757.6\n",
      "80571.4\n",
      "71335.9\n",
      "63705.6\n",
      "56973.7\n",
      "51052.1\n",
      "42000.3\n",
      "26477.7\n",
      "17023.8\n",
      "11733.9\n",
      "6239.01\n"
     ]
    }
   ],
   "source": [
    "for(int i = 0; i < 255; i++){\n",
    "    Inter_class_variance[i] = ((weight1[i] * weight2[i] * (mean1[i] - mean2[i+1])) / dnum) * (mean1[i] - mean2[i+1]);\n",
    "    cout<<Inter_class_variance[i]<<endl;\n",
    "}"
   ]
  },
  {
   "cell_type": "code",
   "execution_count": 23,
   "metadata": {},
   "outputs": [
    {
     "name": "stdout",
     "output_type": "stream",
     "text": [
      "132\n"
     ]
    }
   ],
   "source": [
    "long double maxi = 0;\n",
    "int getmax = 0;\n",
    "for(int i = 0;i < 255; i++){\n",
    "    if(maxi < Inter_class_variance[i]){\n",
    "        maxi = Inter_class_variance[i];\n",
    "        getmax = i;\n",
    "    }\n",
    "}\n",
    "cout<<getmax<<endl;"
   ]
  },
  {
   "cell_type": "code",
   "execution_count": 29,
   "metadata": {},
   "outputs": [
    {
     "name": "stdout",
     "output_type": "stream",
     "text": [
      "Otsu's algorithm implementation thresholding result: 131.982"
     ]
    }
   ],
   "source": [
    "cout << \"Otsu's algorithm implementation thresholding result: \" << bin_mids[getmax];"
   ]
  }
 ],
 "metadata": {
  "kernelspec": {
   "display_name": "C++14",
   "language": "C++14",
   "name": "xeus-cling-cpp14"
  },
  "language_info": {
   "codemirror_mode": "text/x-c++src",
   "file_extension": ".cpp",
   "mimetype": "text/x-c++src",
   "name": "c++",
   "version": "-std=c++14"
  }
 },
 "nbformat": 4,
 "nbformat_minor": 2
}
